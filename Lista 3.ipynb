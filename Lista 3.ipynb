{
 "cells": [
  {
   "cell_type": "markdown",
   "metadata": {},
   "source": [
    "#Método de Euler Mejorado o Método de Heun\n",
    "\n",
    "\\begin{eqnarray*}\n",
    "y_i' &=& f(x_i, y_i) \\\\\n",
    "y_{i+1}^0 &=& y_i + f(x_i, y_i) h \\\\\n",
    "y_{i+1} &=& y_i + \\frac{f(x_i, y_i) + f(x_i, y_{i+1}^0)}{2}h\n",
    "\\end{eqnarray*}\n",
    "\n",
    "#Runge Kutta Órden 4\n",
    "\n",
    "\\begin{eqnarray*}\n",
    "k_1 &=& f(x_i, y_i)\\\\\n",
    "k_2 &=& f(x_i + \\frac{1}{2}h, y_i + \\frac{1}{2}k_1 h)\\\\\n",
    "k_3 &=& f(x_i + \\frac{1}{2}h, y_i + \\frac{1}{2}k_2 h)\\\\\n",
    "k_4 &=& f(x_i + h, y_i + k_3 h)\\\\\n",
    "y_{i+1} &=& \\frac{h}{6} \\Big( k_1 + 2k_2 + 2k_3 + k_4 \\Big)\n",
    "\\end{eqnarray*}"
   ]
  },
  {
   "cell_type": "markdown",
   "metadata": {},
   "source": [
    "Usemos el Métod de Euler Mejorado y de Runge Kutta 4 para calcular \n",
    "\n",
    "\\begin{eqnarray}\n",
    "y' &=& 4e^{0.8x} - 0.5y \\\\\n",
    "y(0) &=& 2 \\\\\n",
    "x \\in [0, 4] \\\\\n",
    "h &=& 1\n",
    "\\end{eqnarray}\n",
    "\n",
    "La solución analítica a este problema es \n",
    "$$\n",
    "y = \\frac{4}{1.3}\\Big( e^{0.8x} - e^{-0.5x} \\Big) + 2e^{-0.5x}\n",
    "$$"
   ]
  },
  {
   "cell_type": "code",
   "execution_count": 2,
   "metadata": {
    "collapsed": false
   },
   "outputs": [],
   "source": [
    "import matplotlib.pyplot as plt\n",
    "import numpy as np;\n",
    "%matplotlib inline\n",
    "\n",
    "def Analytical(x):\n",
    "    return (4.0/1.3) * (np.exp(0.8*x) - np.exp(-0.5*x)) + 2*np.exp(-0.5*x);\n",
    "\n",
    "#definicion de la funcion para los valores iniciales\n",
    "def f(x, y):\n",
    "    return 4*np.exp(0.8*x) - 0.5*y;"
   ]
  },
  {
   "cell_type": "code",
   "execution_count": 46,
   "metadata": {
    "collapsed": false
   },
   "outputs": [
    {
     "data": {
      "text/plain": [
       "<matplotlib.legend.Legend at 0x96bd470>"
      ]
     },
     "execution_count": 46,
     "metadata": {},
     "output_type": "execute_result"
    },
    {
     "data": {
      "image/png": "[encoded data removed]",
      "text/plain": [
       "<matplotlib.figure.Figure at 0x95dc650>"
      ]
     },
     "metadata": {},
     "output_type": "display_data"
    }
   ],
   "source": [
    "h = 1.0;\n",
    "x = np.arange(0, 5);\n",
    "y_heun = np.zeros(x.size);\n",
    "\n",
    "y_heun[0] = 2;\n",
    "y_kutta = y_heun.copy();\n",
    "y_real = Analytical(x);\n",
    "\n",
    "for i in xrange(1, x.size):\n",
    "    \n",
    "    f_prev = f(x[i-1],y_heun[i-1]);\n",
    "    predictor = y_heun[i-1] + f_prev * h;\n",
    "    y_heun[i] = y_heun[i-1] + (h*0.5)*(f_prev + f(x[i-1], predictor));\n",
    "    \n",
    "    # Runge Kutta 4th order\n",
    "    k1 = f(x[i-1], y_kutta[i-1]);\n",
    "    k2 = f(x[i-1] + 0.5*h, y_kutta[i-1] + 0.5*k1*h);\n",
    "    k3 = f(x[i-1] + 0.5*h, y_kutta[i-1] + 0.5*k2*h);\n",
    "    k4 = f(x[i-1] + h, y_kutta[i-1] + k3*h);\n",
    "    y_kutta[i] = y_kutta[i-1] + (h/6.0) * (k1 + 2*k2 + 2*k3 + k4);\n",
    "    \n",
    "heun, = plt.plot(x, y_heun, label='Heun');\n",
    "kutta, = plt.plot(x, y_kutta, label='RK 4th', lw=5);\n",
    "real, = plt.plot(x, y_real, label='Real');\n",
    "plt.legend(handles=[heun, kutta, real], loc=0)"
   ]
  },
  {
   "cell_type": "markdown",
   "metadata": {},
   "source": [
    "#Conclusión\n",
    "\n",
    "Este ejemplo nos muestra que el método de **Runge Kutta 4** es más preciso"
   ]
  },
  {
   "cell_type": "code",
   "execution_count": 3,
   "metadata": {
    "collapsed": false
   },
   "outputs": [
    {
     "data": {
      "image/png": "[encoded data removed]",
      "text/plain": [
       "<matplotlib.figure.Figure at 0x693de90>"
      ]
     },
     "metadata": {},
     "output_type": "display_data"
    }
   ],
   "source": [
    "def Oscilator(A, w, t, phi):\n",
    "    return A*np.cos(w*t + phi);\n",
    "\n",
    "def Oscilator_Derivative(A, w, t, phi):\n",
    "    return -A*w*np.sin(w*t + phi);\n",
    "\n",
    "data = np.linspace(0, 2*np.pi, 100, retstep=True);\n",
    "t = data[0];\n",
    "h = data[1];\n",
    "A = 1;\n",
    "w = 0.5;\n",
    "phi = 0;\n",
    "\n",
    "def f(x, y, z):\n",
    "    return z;\n",
    "\n",
    "def g(x, y, z):\n",
    "    return -(w**2)*x;\n",
    "\n",
    "y_0_real = Oscilator(A, w, t, phi);\n",
    "y_1_real = Oscilator_Derivative(A, w, t, phi);\n",
    "\n",
    "# Set initial Values\n",
    "y = t.copy();\n",
    "y[0] = Oscilator(A, w, 0, phi);\n",
    "z = t.copy();\n",
    "z[0] = Oscilator_Derivative(A, w, 0, phi);\n",
    "\n",
    "# Runge Kutta coefficients\n",
    "for i in xrange(1, t.size):\n",
    "    k1 = f(t[i-1], y[i-1], z[i-1]);\n",
    "    l1 = g(t[i-1], y[i-1], z[i-1])\n",
    "    \n",
    "    k2 = f(t[i-1] + 0.5*h, y[i-1] + 0.5*k1*h, z[i-1] + 0.5*l1*h);\n",
    "    l2 = g(t[i-1] + 0.5*h, y[i-1] + 0.5*k1*h, z[i-1] + 0.5*l1*h);\n",
    "    \n",
    "    k3 = f(t[i-1] + 0.5*h, y[i-1] + 0.5*k2*h, z[i-1] + 0.5*l2*h);\n",
    "    l3 = g(t[i-1] + 0.5*h, y[i-1] + 0.5*k2*h, z[i-1] + 0.5*l2*h);\n",
    "    \n",
    "    k4 = f(t[i-1] + h, y[i-1] + k3*h, z[i-1] + l3*h);\n",
    "    l4 = g(t[i-1] + h, y[i-1] + k3*h, z[i-1] + l3*h);\n",
    "    \n",
    "    y[i] = y[i-1] + (h/6.0) * (k1 + 2*k2 + 2*k3 + k4);\n",
    "    z[i] = z[i-1] + (h/6.0) * (l1 + 2*l2 + 2*l3 + l4);\n",
    "    \n",
    "    \n",
    "\n",
    "plt.plot(t, y_0_real, t, y);"
   ]
  },
  {
   "cell_type": "code",
   "execution_count": 7,
   "metadata": {
    "collapsed": false
   },
   "outputs": [
    {
     "name": "stdout",
     "output_type": "stream",
     "text": [
      "Help on function odeint in module scipy.integrate.odepack:\n",
      "\n",
      "odeint(func, y0, t, args=(), Dfun=None, col_deriv=0, full_output=0, ml=None, mu=None, rtol=None, atol=None, tcrit=None, h0=0.0, hmax=0.0, hmin=0.0, ixpr=0, mxstep=0, mxhnil=0, mxordn=12, mxords=5, printmessg=0)\n",
      "    Integrate a system of ordinary differential equations.\n",
      "    \n",
      "    Solve a system of ordinary differential equations using lsoda from the\n",
      "    FORTRAN library odepack.\n",
      "    \n",
      "    Solves the initial value problem for stiff or non-stiff systems\n",
      "    of first order ode-s::\n",
      "    \n",
      "        dy/dt = func(y,t0,...)\n",
      "    \n",
      "    where y can be a vector.\n",
      "    \n",
      "    Parameters\n",
      "    ----------\n",
      "    func : callable(y, t0, ...)\n",
      "        Computes the derivative of y at t0.\n",
      "    y0 : array\n",
      "        Initial condition on y (can be a vector).\n",
      "    t : array\n",
      "        A sequence of time points for which to solve for y.  The initial\n",
      "        value point should be the first element of this sequence.\n",
      "    args : tuple, optional\n",
      "        Extra arguments to pass to function.\n",
      "    Dfun : callable(y, t0, ...)\n",
      "        Gradient (Jacobian) of `func`.\n",
      "    col_deriv : bool, optional\n",
      "        True if `Dfun` defines derivatives down columns (faster),\n",
      "        otherwise `Dfun` should define derivatives across rows.\n",
      "    full_output : bool, optional\n",
      "        True if to return a dictionary of optional outputs as the second output\n",
      "    printmessg : bool, optional\n",
      "        Whether to print the convergence message\n",
      "    \n",
      "    Returns\n",
      "    -------\n",
      "    y : array, shape (len(t), len(y0))\n",
      "        Array containing the value of y for each desired time in t,\n",
      "        with the initial value `y0` in the first row.\n",
      "    infodict : dict, only returned if full_output == True\n",
      "        Dictionary containing additional output information\n",
      "    \n",
      "        =======  ============================================================\n",
      "        key      meaning\n",
      "        =======  ============================================================\n",
      "        'hu'     vector of step sizes successfully used for each time step.\n",
      "        'tcur'   vector with the value of t reached for each time step.\n",
      "                 (will always be at least as large as the input times).\n",
      "        'tolsf'  vector of tolerance scale factors, greater than 1.0,\n",
      "                 computed when a request for too much accuracy was detected.\n",
      "        'tsw'    value of t at the time of the last method switch\n",
      "                 (given for each time step)\n",
      "        'nst'    cumulative number of time steps\n",
      "        'nfe'    cumulative number of function evaluations for each time step\n",
      "        'nje'    cumulative number of jacobian evaluations for each time step\n",
      "        'nqu'    a vector of method orders for each successful step.\n",
      "        'imxer'  index of the component of largest magnitude in the\n",
      "                 weighted local error vector (e / ewt) on an error return, -1\n",
      "                 otherwise.\n",
      "        'lenrw'  the length of the double work array required.\n",
      "        'leniw'  the length of integer work array required.\n",
      "        'mused'  a vector of method indicators for each successful time step:\n",
      "                 1: adams (nonstiff), 2: bdf (stiff)\n",
      "        =======  ============================================================\n",
      "    \n",
      "    Other Parameters\n",
      "    ----------------\n",
      "    ml, mu : int, optional\n",
      "        If either of these are not None or non-negative, then the\n",
      "        Jacobian is assumed to be banded.  These give the number of\n",
      "        lower and upper non-zero diagonals in this banded matrix.\n",
      "        For the banded case, `Dfun` should return a matrix whose\n",
      "        rows contain the non-zero bands (starting with the lowest diagonal).\n",
      "        Thus, the return matrix `jac` from `Dfun` should have shape\n",
      "        ``(ml + mu + 1, len(y0))`` when ``ml >=0`` or ``mu >=0``.\n",
      "        The data in `jac` must be stored such that ``jac[i - j + mu, j]``\n",
      "        holds the derivative of the `i`th equation with respect to the `j`th\n",
      "        state variable.  If `col_deriv` is True, the transpose of this\n",
      "        `jac` must be returned.\n",
      "    rtol, atol : float, optional\n",
      "        The input parameters `rtol` and `atol` determine the error\n",
      "        control performed by the solver.  The solver will control the\n",
      "        vector, e, of estimated local errors in y, according to an\n",
      "        inequality of the form ``max-norm of (e / ewt) <= 1``,\n",
      "        where ewt is a vector of positive error weights computed as\n",
      "        ``ewt = rtol * abs(y) + atol``.\n",
      "        rtol and atol can be either vectors the same length as y or scalars.\n",
      "        Defaults to 1.49012e-8.\n",
      "    tcrit : ndarray, optional\n",
      "        Vector of critical points (e.g. singularities) where integration\n",
      "        care should be taken.\n",
      "    h0 : float, (0: solver-determined), optional\n",
      "        The step size to be attempted on the first step.\n",
      "    hmax : float, (0: solver-determined), optional\n",
      "        The maximum absolute step size allowed.\n",
      "    hmin : float, (0: solver-determined), optional\n",
      "        The minimum absolute step size allowed.\n",
      "    ixpr : bool, optional\n",
      "        Whether to generate extra printing at method switches.\n",
      "    mxstep : int, (0: solver-determined), optional\n",
      "        Maximum number of (internally defined) steps allowed for each\n",
      "        integration point in t.\n",
      "    mxhnil : int, (0: solver-determined), optional\n",
      "        Maximum number of messages printed.\n",
      "    mxordn : int, (0: solver-determined), optional\n",
      "        Maximum order to be allowed for the non-stiff (Adams) method.\n",
      "    mxords : int, (0: solver-determined), optional\n",
      "        Maximum order to be allowed for the stiff (BDF) method.\n",
      "    \n",
      "    See Also\n",
      "    --------\n",
      "    ode : a more object-oriented integrator based on VODE.\n",
      "    quad : for finding the area under a curve.\n",
      "\n"
     ]
    }
   ],
   "source": [
    "from scipy.integrate import odeint\n",
    "\n",
    "odeint()\n",
    "\n",
    "help(odeint)"
   ]
  }
 ],
 "metadata": {
  "kernelspec": {
   "display_name": "Python 2",
   "language": "python",
   "name": "python2"
  },
  "language_info": {
   "codemirror_mode": {
    "name": "ipython",
    "version": 2
   },
   "file_extension": ".py",
   "mimetype": "text/x-python",
   "name": "python",
   "nbconvert_exporter": "python",
   "pygments_lexer": "ipython2",
   "version": "2.7.7"
  }
 },
 "nbformat": 4,
 "nbformat_minor": 0
}
